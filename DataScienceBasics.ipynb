{
  "nbformat": 4,
  "nbformat_minor": 0,
  "metadata": {
    "colab": {
      "provenance": [],
      "collapsed_sections": [],
      "authorship_tag": "ABX9TyMRexBgCMRB70qWMgajTJ6s",
      "include_colab_link": true
    },
    "kernelspec": {
      "name": "python3",
      "display_name": "Python 3"
    },
    "language_info": {
      "name": "python"
    }
  },
  "cells": [
    {
      "cell_type": "markdown",
      "metadata": {
        "id": "view-in-github",
        "colab_type": "text"
      },
      "source": [
        "<a href=\"https://colab.research.google.com/github/Pratapbogg/DataScienceBasics/blob/main/DataScienceBasics.ipynb\" target=\"_parent\"><img src=\"https://colab.research.google.com/assets/colab-badge.svg\" alt=\"Open In Colab\"/></a>"
      ]
    },
    {
      "cell_type": "markdown",
      "source": [
        "Data Science"
      ],
      "metadata": {
        "id": "wTfrq9sglWqE"
      }
    },
    {
      "cell_type": "code",
      "source": [
        "print(\"Welcome to Data Science\")"
      ],
      "metadata": {
        "id": "toLvVkrFkjFc"
      },
      "execution_count": null,
      "outputs": []
    },
    {
      "cell_type": "markdown",
      "source": [
        "Tabular Data \n"
      ],
      "metadata": {
        "id": "S5St0on2naHa"
      }
    },
    {
      "cell_type": "code",
      "source": [
        "import pandas as pd\n",
        "us_babies = pd.read_csv(\"/content/Data_Science/us_baby_names.csv\")\n",
        "\n",
        "#First five popular names in year 2014\n",
        "# 1. Slice out rows in year 2014\n",
        "# 2. Sort rows in decending order\n",
        "# 3. Get the first five\n",
        "\n",
        "us_babies[\"Year\"]  # Access column 2014\n",
        "us_babies[\"Year\"] == 2014\n",
        "\n",
        "us_babies_2014 = us_babies.loc[us_babies[\"Year\"] == 2014,:] # column denotes all the rows\n",
        "\n",
        "sorted_us_2014 = us_babies_2014.sort_values(\"Count\",ascending=False)\n",
        "\n",
        "sorted_us_2014.iloc[0:5]"
      ],
      "metadata": {
        "id": "ZXgbrOuDniyJ"
      },
      "execution_count": null,
      "outputs": []
    },
    {
      "cell_type": "code",
      "source": [
        "#Famous names in each state in the US.\n",
        "\n",
        "import pandas as pd\n",
        "\n",
        "states_babies = pd.read_csv(\"/content/Data_Science/state_baby_names.csv\")\n",
        "\n",
        "states_babies_2014 = states_babies.loc[states_babies[\"Year\"] == 2014,:]\n",
        "\n",
        "ca_babies_2014 = states_babies_2014.loc[states_babies_2014[\"State\"]==\"CA\",:]\n",
        "\n",
        "sorted_ca_babies_2014 =ca_babies_2014.sort_values(\"Count\",ascending=False)\n",
        "\n",
        "sorted_ca_babies_2014.iloc[1:5]\n"
      ],
      "metadata": {
        "id": "cM15E_xmqaza"
      },
      "execution_count": null,
      "outputs": []
    },
    {
      "cell_type": "code",
      "source": [
        "#Famouns names in each year in california\n",
        "\n",
        "import pandas as pd\n",
        "\n",
        "states_babies = pd.read_csv(\"/content/Data_Science/state_baby_names.csv\")\n",
        "\n",
        "ca_babies = states_babies.loc[states_babies['State'] == \"CA\",:]\n",
        "\n",
        "def popular(s):\n",
        "  \"\"\"Receives, a Pandas Series, containing baby names in oder of highest to lowest count.\n",
        "  Returns the most popular names in s\"\"\"\n",
        "  return s.iloc[0]\n",
        "\n",
        "ca_grouped = ca_babies.sort_values('Count',ascending=False).groupby(['Year','Gender']).agg(popular)\n",
        "\n",
        "ca_grouped"
      ],
      "metadata": {
        "id": "GmuslkG2sZK8"
      },
      "execution_count": null,
      "outputs": []
    }
  ]
}