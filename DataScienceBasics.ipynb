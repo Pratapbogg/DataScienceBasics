{
  "nbformat": 4,
  "nbformat_minor": 0,
  "metadata": {
    "colab": {
      "provenance": [],
      "collapsed_sections": [],
      "authorship_tag": "ABX9TyPK9CcpfpuIdpTGpC1qMrnX",
      "include_colab_link": true
    },
    "kernelspec": {
      "name": "python3",
      "display_name": "Python 3"
    },
    "language_info": {
      "name": "python"
    }
  },
  "cells": [
    {
      "cell_type": "markdown",
      "metadata": {
        "id": "view-in-github",
        "colab_type": "text"
      },
      "source": [
        "<a href=\"https://colab.research.google.com/github/Pratapbogg/DataScienceBasics/blob/main/DataScienceBasics.ipynb\" target=\"_parent\"><img src=\"https://colab.research.google.com/assets/colab-badge.svg\" alt=\"Open In Colab\"/></a>"
      ]
    },
    {
      "cell_type": "markdown",
      "source": [
        "Data Science"
      ],
      "metadata": {
        "id": "wTfrq9sglWqE"
      }
    },
    {
      "cell_type": "code",
      "source": [
        "print(\"Welcome to Data Science\")"
      ],
      "metadata": {
        "id": "toLvVkrFkjFc"
      },
      "execution_count": null,
      "outputs": []
    },
    {
      "cell_type": "markdown",
      "source": [
        "Tabular Data \n"
      ],
      "metadata": {
        "id": "S5St0on2naHa"
      }
    },
    {
      "cell_type": "code",
      "source": [
        "import pandas as pd\n",
        "us_babies = pd.read_csv(\"/content/Data_Science/us_baby_names.csv\")\n",
        "\n",
        "#First five popular names in year 2014\n",
        "# 1. Slice out rows in year 2014\n",
        "# 2. Sort rows in decending order\n",
        "# 3. Get the first five\n",
        "\n",
        "us_babies[\"Year\"]  # Access column 2014\n",
        "us_babies[\"Year\"] == 2014\n",
        "\n",
        "us_babies_2014 = us_babies.loc[us_babies[\"Year\"] == 2014,:] # column denotes all the rows\n",
        "\n",
        "sorted_us_2014 = us_babies_2014.sort_values(\"Count\",ascending=False)\n",
        "\n",
        "sorted_us_2014.iloc[0:5]"
      ],
      "metadata": {
        "id": "ZXgbrOuDniyJ"
      },
      "execution_count": null,
      "outputs": []
    }
  ]
}