{
  "nbformat": 4,
  "nbformat_minor": 0,
  "metadata": {
    "colab": {
      "provenance": [],
      "collapsed_sections": [],
      "authorship_tag": "ABX9TyPHPcK4orA7QkaSzucQyRR/",
      "include_colab_link": true
    },
    "kernelspec": {
      "name": "python3",
      "display_name": "Python 3"
    },
    "language_info": {
      "name": "python"
    }
  },
  "cells": [
    {
      "cell_type": "markdown",
      "metadata": {
        "id": "view-in-github",
        "colab_type": "text"
      },
      "source": [
        "<a href=\"https://colab.research.google.com/github/Pratapbogg/DataScienceBasics/blob/main/DataScienceBasics.ipynb\" target=\"_parent\"><img src=\"https://colab.research.google.com/assets/colab-badge.svg\" alt=\"Open In Colab\"/></a>"
      ]
    },
    {
      "cell_type": "markdown",
      "source": [
        "Data Science"
      ],
      "metadata": {
        "id": "wTfrq9sglWqE"
      }
    },
    {
      "cell_type": "code",
      "source": [
        "print(\"Welcome to Data Science\")"
      ],
      "metadata": {
        "id": "toLvVkrFkjFc"
      },
      "execution_count": null,
      "outputs": []
    },
    {
      "cell_type": "markdown",
      "source": [
        "Tabular Data \n"
      ],
      "metadata": {
        "id": "S5St0on2naHa"
      }
    },
    {
      "cell_type": "code",
      "source": [
        "import pandas as pd\n",
        "us_babies = pd.read_csv(\"/content/Data_Science/us_baby_names.csv\")\n"
      ],
      "metadata": {
        "id": "ZXgbrOuDniyJ"
      },
      "execution_count": null,
      "outputs": []
    }
  ]
}