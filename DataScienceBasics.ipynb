{
  "nbformat": 4,
  "nbformat_minor": 0,
  "metadata": {
    "colab": {
      "provenance": [],
      "collapsed_sections": [],
      "toc_visible": true,
      "authorship_tag": "ABX9TyPWzLR+9BFY4EtcWAnkdIoR",
      "include_colab_link": true
    },
    "kernelspec": {
      "name": "python3",
      "display_name": "Python 3"
    },
    "language_info": {
      "name": "python"
    }
  },
  "cells": [
    {
      "cell_type": "markdown",
      "metadata": {
        "id": "view-in-github",
        "colab_type": "text"
      },
      "source": [
        "<a href=\"https://colab.research.google.com/github/Pratapbogg/DataScienceBasics/blob/main/DataScienceBasics.ipynb\" target=\"_parent\"><img src=\"https://colab.research.google.com/assets/colab-badge.svg\" alt=\"Open In Colab\"/></a>"
      ]
    },
    {
      "cell_type": "markdown",
      "source": [
        "Data Science"
      ],
      "metadata": {
        "id": "wTfrq9sglWqE"
      }
    },
    {
      "cell_type": "code",
      "source": [
        "print(\"Welcome to Data Science\")"
      ],
      "metadata": {
        "id": "toLvVkrFkjFc"
      },
      "execution_count": null,
      "outputs": []
    }
  ]
}